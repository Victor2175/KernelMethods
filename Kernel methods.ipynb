{
 "cells": [
  {
   "cell_type": "code",
   "execution_count": 1,
   "metadata": {
    "collapsed": false
   },
   "outputs": [],
   "source": [
    "from numpy.random import normal,multivariate_normal\n",
    "import numpy as np\n",
    "from numpy.linalg import inv\n",
    "from scipy import *\n",
    "from scipy.linalg import norm, pinv, det\n",
    "from scipy.misc import derivative\n",
    "from sympy import symbols, diff\n",
    "import matplotlib.pyplot as plt\n",
    "import numdifftools as nd\n"
   ]
  },
  {
   "cell_type": "code",
   "execution_count": 2,
   "metadata": {
    "collapsed": false
   },
   "outputs": [],
   "source": [
    "def kmeans(x,k):\n",
    "    n = x.shape[0]\n",
    "    n_iterations = 1000\n",
    "    epsilon = 1e-8\n",
    "    err = np.inf\n",
    "\n",
    "    #initialize random centroids\n",
    "    c = np.zeros((k,x.shape[1]))\n",
    "    for i in range(k):\n",
    "        idx = np.random.randint(n)\n",
    "        c[i] = x[idx,:]\n",
    "\n",
    "    for iteration in range(n_iterations):\n",
    "        d = np.zeros((n, k))  # distances to centroids square\n",
    "        for i in range(k):\n",
    "            d[:, i] = np.sqrt(np.sum(np.square(np.subtract(x, np.tile(c[i, :], (n, 1)))), 1).flatten())\n",
    "\n",
    "        #assign each point to nearest centroid\n",
    "        l = np.argmin(d,1)\n",
    "\n",
    "\n",
    "        #recompute centroids as center of mass of each cluster\n",
    "        for j in range(k):\n",
    "            if len(l[l==j]):\n",
    "                c[j,:] = x[l==j].sum(0) / len(l[l==j])\n",
    "\n",
    "        err_new = np.sum(np.min(d,1))/n\n",
    "\n",
    "\n",
    "        if np.abs(err_new - err)<epsilon:\n",
    "            break\n",
    "        err = err_new\n",
    "\n",
    "    return c,l,err    "
   ]
  },
  {
   "cell_type": "code",
   "execution_count": null,
   "metadata": {
    "collapsed": true
   },
   "outputs": [],
   "source": [
    "#Kernel function \n",
    "def MultiRadialbasisfunc(Mean, Sigma, x):\n",
    "    return np.sqrt(1/(2*pi*det(Sigma))) * exp((-1/2)*dot((x-Mean).T,dot(inv(Sigma),x-Mean)))\n",
    "\n",
    "#activation fills the Phi (in the pdf)\n",
    "def Multiactivation(X, Means, Sigma, numNeurons):\n",
    "    # calculate activations of RBFs\n",
    "    Phi = zeros((X.shape[0], numNeurons), float)\n",
    "    for i in range(numNeurons):\n",
    "        for j, x in enumerate(X):\n",
    "            #Here we fill the element j,i with exp(-beta * (c_i-x_j)^2)\n",
    "            Phi[j,i] = MultiRadialbasisfunc(Means[i], Sigma, x)\n",
    "    return Phi\n",
    "\n",
    "\n",
    "def Multitrainrbf(X, Y, Sigma, numNeurons, linear, Lambda):\n",
    "    \n",
    "    #Dimensions\n",
    "    #X: n x Inputdimension\n",
    "    #y: n x OutputDimension\n",
    "    \n",
    "    n = X.shape[0]\n",
    "    d = Y.shape[1]\n",
    "    \n",
    "    #Centers are the neurons in our RBF network\n",
    "    newCenters = kmeans(X,numNeurons)\n",
    "    centers = newCenters[0]\n",
    "    \n",
    "    \n",
    "    # calculate activations of RBFs\n",
    "    if linear == 0:\n",
    "        Phi = Multiactivation(X, centers, Sigma, numNeurons)\n",
    "        Phi = np.append(Phi, X, axis =1)\n",
    "        Phi = np.append(Phi, np.ones((n,1), \"float\"), axis = 1)\n",
    "    else:\n",
    "        Phi = X\n",
    "        Phi = np.append(Phi, np.ones((n,1), \"float\"), axis = 1)\n",
    "    \n",
    "    \n",
    "    # calculate output weights (pseudoinverse)\n",
    "    #W = dot(pinv(Phi), Y) #written by Victor\n",
    "    if linear == 0:\n",
    "        W = dot(dot(inv(Lambda*np.identity(numNeurons+d+1)+dot(Phi.T, Phi)),Phi.T),Y)\n",
    "    else:\n",
    "        W = dot(dot(inv(Lambda*np.identity(d)+dot(Phi.T, Phi)),Phi.T),Y)\n",
    "        \n",
    "   \n",
    "    \n",
    "    #Calculate the covariance matrix Q with formula (6.18) \n",
    "    \n",
    "    #Q = dot(np.transpose(Y),Y) - dot(np.transpose(W), dot(np.transpose(Phi), Y)) #written by Victor\n",
    "    Q = np.zeros((d,d))\n",
    "    for i in range(n):\n",
    "        for k in range(d):\n",
    "            for l in range(d):\n",
    "                Q[k,l] += (1/float(n))*(Y[i,k] - dot(Phi[i,:],W[:,k]))*(Y[i,l] - dot(Phi[i,:],W[:,k]))\n",
    "        \n",
    "    #Q = (1/n)*Q\n",
    "    \n",
    "    return W, Q, centers"
   ]
  }
 ],
 "metadata": {
  "anaconda-cloud": {},
  "kernelspec": {
   "display_name": "Python [default]",
   "language": "python",
   "name": "python2"
  },
  "language_info": {
   "codemirror_mode": {
    "name": "ipython",
    "version": 2
   },
   "file_extension": ".py",
   "mimetype": "text/x-python",
   "name": "python",
   "nbconvert_exporter": "python",
   "pygments_lexer": "ipython2",
   "version": "2.7.12"
  }
 },
 "nbformat": 4,
 "nbformat_minor": 1
}
