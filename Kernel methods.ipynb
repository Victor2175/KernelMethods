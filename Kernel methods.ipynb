{
 "cells": [
  {
   "cell_type": "code",
   "execution_count": 67,
   "metadata": {
    "collapsed": false
   },
   "outputs": [],
   "source": [
    "from numpy.random import normal,multivariate_normal\n",
    "import numpy as np\n",
    "from numpy.linalg import inv\n",
    "from numpy import genfromtxt\n",
    "\n",
    "from scipy import *\n",
    "from scipy.linalg import norm, pinv, det\n",
    "from scipy.optimize import minimize\n",
    "\n",
    "\n",
    "\n",
    "import matplotlib.pyplot as plt\n",
    "#import numdifftools as nd\n",
    "\n",
    "from PIL import Image\n",
    "import matplotlib.image as mping\n",
    "\n",
    "import pandas as pd\n"
   ]
  },
  {
   "cell_type": "code",
   "execution_count": 16,
   "metadata": {
    "collapsed": false
   },
   "outputs": [],
   "source": [
    "def kmeans(x,k):\n",
    "    n = x.shape[0]\n",
    "    n_iterations = 1000\n",
    "    epsilon = 1e-8\n",
    "    err = np.inf\n",
    "\n",
    "    #initialize random centroids\n",
    "    c = np.zeros((k,x.shape[1]))\n",
    "    for i in range(k):\n",
    "        idx = np.random.randint(n)\n",
    "        c[i] = x[idx,:]\n",
    "\n",
    "    for iteration in range(n_iterations):\n",
    "        d = np.zeros((n, k))  # distances to centroids square\n",
    "        for i in range(k):\n",
    "            d[:, i] = np.sqrt(np.sum(np.square(np.subtract(x, np.tile(c[i, :], (n, 1)))), 1).flatten())\n",
    "\n",
    "        #assign each point to nearest centroid\n",
    "        l = np.argmin(d,1)\n",
    "\n",
    "\n",
    "        #recompute centroids as center of mass of each cluster\n",
    "        for j in range(k):\n",
    "            if len(l[l==j]):\n",
    "                c[j,:] = x[l==j].sum(0) / len(l[l==j])\n",
    "\n",
    "        err_new = np.sum(np.min(d,1))/n\n",
    "\n",
    "\n",
    "        if np.abs(err_new - err)<epsilon:\n",
    "            break\n",
    "        err = err_new\n",
    "\n",
    "    return c,l,err    "
   ]
  },
  {
   "cell_type": "code",
   "execution_count": 17,
   "metadata": {
    "collapsed": false
   },
   "outputs": [],
   "source": [
    "#Kernel function \n",
    "def gaussianKernel(Mean, Sigma, x):\n",
    "    return np.sqrt(1/(2*pi*det(Sigma))) * exp((-1/2)*dot((x-Mean).T,dot(inv(Sigma),x-Mean)))\n",
    "\n",
    "#activation fills the Phi (in the pdf)\n",
    "def activation(X, Means, Sigma):\n",
    "    n = X.shape[0]\n",
    "    \n",
    "    # calculate activations of RBFs\n",
    "    Phi = zeros((n, n), float)\n",
    "    \n",
    "    for i in range(n):\n",
    "        for j in range(n):\n",
    "            print(Means[i,:])\n",
    "            Phi[i,j] = gaussianKernel(Means[i,:], Sigma, X[j,:])\n",
    "    return Phi\n",
    "\n",
    "\n",
    "def trainRidgeRegression(X, Y, Sigma, Lambda):\n",
    "    \n",
    "    #Dimensions\n",
    "    #X: n x Inputdimension\n",
    "    #y: n x OutputDimension\n",
    "    \n",
    "    n = X.shape[0]\n",
    "    d = X.shape[1]\n",
    "    \n",
    "    #Centers are the neurons in our RBF network\n",
    "    \n",
    "    #newCenters = kmeans(X,numNeurons)\n",
    "    #centers = newCenters[0]\n",
    "    \n",
    "    \n",
    "    #Calculate Activation matrix\n",
    "   \n",
    "    Phi = activation(X, X, Sigma)\n",
    "    \n",
    "    # calculate output weights (pseudoinverse)\n",
    "    #W = dot(pinv(Phi), Y) #written by Victor\n",
    "    \n",
    "    W = dot(dot(inv(Lambda*np.identity(d)+dot(Phi.T, Phi)),Phi.T),Y)\n",
    " \n",
    "    #Calculate the covariance matrix Q with formula (6.18) \n",
    "    \n",
    "    #Q = dot(np.transpose(Y),Y) - dot(np.transpose(W), dot(np.transpose(Phi), Y)) #written by Victor\n",
    "    #Q = np.zeros((d,d))\n",
    "    #for i in range(n):\n",
    "    #    for k in range(d):\n",
    "    #        for l in range(d):\n",
    "    #            Q[k,l] += (1/float(n))*(Y[i,k] - dot(Phi[i,:],W[:,k]))*(Y[i,l] - dot(Phi[i,:],W[:,k]))\n",
    "        \n",
    "    #Q = (1/n)*Q\n",
    "    \n",
    "    return W"
   ]
  },
  {
   "cell_type": "code",
   "execution_count": 23,
   "metadata": {
    "collapsed": false
   },
   "outputs": [
    {
     "name": "stdout",
     "output_type": "stream",
     "text": [
      "(array([   7,   26,   34,   57,   72,   73,   97,  123,  125,  133,  138,\n",
      "        143,  150,  154,  164,  165,  175,  188,  191,  200,  221,  242,\n",
      "        250,  276,  279,  284,  317,  326,  343,  357,  358,  371,  377,\n",
      "        388,  393,  400,  410,  437,  441,  459,  471,  473,  474,  477,\n",
      "        484,  512,  516,  518,  519,  524,  547,  549,  577,  586,  589,\n",
      "        597,  610,  630,  637,  643,  653,  661,  678,  680,  689,  704,\n",
      "        719,  721,  737,  742,  755,  759,  768,  777,  783,  794,  796,\n",
      "        799,  814,  824,  828,  832,  844,  847,  848,  852,  865,  874,\n",
      "        876,  896,  902,  903,  908,  913,  918,  926,  928,  937,  942,\n",
      "        944,  957,  967,  971,  974, 1014, 1022, 1085, 1089, 1090, 1095,\n",
      "       1097, 1105, 1115, 1123, 1128, 1141, 1149, 1156, 1165, 1166, 1167,\n",
      "       1171, 1178, 1186, 1191, 1231, 1235, 1245, 1247, 1249, 1257, 1263,\n",
      "       1267, 1276, 1287, 1290, 1293, 1297, 1300, 1303, 1307, 1312, 1327,\n",
      "       1329, 1350, 1352, 1359, 1372, 1397, 1408, 1414, 1422, 1432, 1449,\n",
      "       1451, 1482, 1484, 1494, 1512, 1514, 1522, 1534, 1545, 1550, 1562,\n",
      "       1571, 1618, 1623, 1630, 1634, 1647, 1652, 1655, 1670, 1671, 1695,\n",
      "       1697, 1699, 1702, 1704, 1707, 1770, 1776, 1778, 1782, 1790, 1809,\n",
      "       1821, 1831, 1841, 1861, 1870, 1882, 1893, 1896, 1911, 1945, 1947,\n",
      "       1956, 1974, 1997, 2003, 2028, 2030, 2035, 2036, 2054, 2057, 2058,\n",
      "       2060, 2062, 2068, 2072, 2075, 2086, 2099, 2106, 2110, 2115, 2130,\n",
      "       2131, 2148, 2149, 2157, 2171, 2184, 2191, 2204, 2209, 2212, 2229,\n",
      "       2245, 2248, 2249, 2257, 2258, 2263, 2297, 2304, 2305, 2306, 2308,\n",
      "       2315, 2316, 2346, 2354, 2369, 2372, 2380, 2382, 2388, 2393, 2395,\n",
      "       2396, 2403, 2417, 2445, 2455, 2460, 2487, 2497, 2498, 2509, 2521,\n",
      "       2550, 2551, 2561, 2564, 2588, 2591, 2596, 2609, 2610, 2619, 2632,\n",
      "       2656, 2661, 2706, 2707, 2708, 2710, 2712, 2715, 2725, 2726, 2728,\n",
      "       2779, 2803, 2807, 2845, 2851, 2853, 2858, 2863, 2885, 2892, 2903,\n",
      "       2904, 2914, 2923, 2942, 2943, 2960, 2981, 2982, 2988, 3007, 3009,\n",
      "       3025, 3032, 3038, 3051, 3055, 3060, 3079, 3083, 3093, 3102, 3116,\n",
      "       3136, 3151, 3156, 3161, 3193, 3195, 3196, 3206, 3211, 3212, 3216,\n",
      "       3217, 3251, 3255, 3256, 3261, 3262, 3268, 3273, 3283, 3295, 3296,\n",
      "       3312, 3315, 3320, 3329, 3342, 3355, 3360, 3372, 3375, 3376, 3380,\n",
      "       3381, 3399, 3404, 3423, 3432, 3454, 3456, 3461, 3470, 3473, 3475,\n",
      "       3480, 3487, 3514, 3528, 3529, 3538, 3548, 3555, 3569, 3581, 3584,\n",
      "       3587, 3629, 3630, 3637, 3663, 3666, 3691, 3698, 3702, 3724, 3742,\n",
      "       3756, 3763, 3776, 3777, 3812, 3813, 3838, 3839, 3855, 3862, 3870,\n",
      "       3871, 3872, 3875, 3876, 3879, 3906, 3938, 3945, 3949, 3950, 3956,\n",
      "       3974, 3975, 3976, 3985, 3997, 4006, 4038, 4047, 4052, 4065, 4066,\n",
      "       4068, 4071, 4073, 4082, 4086, 4093, 4099, 4103, 4108, 4144, 4151,\n",
      "       4162, 4204, 4213, 4225, 4226, 4245, 4260, 4267, 4291, 4338, 4340,\n",
      "       4361, 4364, 4380, 4392, 4414, 4427, 4449, 4450, 4501, 4516, 4520,\n",
      "       4529, 4530, 4537, 4539, 4561, 4573, 4574, 4575, 4584, 4587, 4591,\n",
      "       4595, 4605, 4619, 4647, 4649, 4650, 4675, 4676, 4700, 4714, 4715,\n",
      "       4722, 4727, 4729, 4750, 4763, 4784, 4792, 4795, 4798, 4807, 4809,\n",
      "       4812, 4819, 4827, 4836, 4844, 4853, 4871, 4895, 4899, 4909, 4914,\n",
      "       4918, 4923, 4945, 4983, 4994]), array([0, 0, 0, 0, 0, 0, 0, 0, 0, 0, 0, 0, 0, 0, 0, 0, 0, 0, 0, 0, 0, 0, 0,\n",
      "       0, 0, 0, 0, 0, 0, 0, 0, 0, 0, 0, 0, 0, 0, 0, 0, 0, 0, 0, 0, 0, 0, 0,\n",
      "       0, 0, 0, 0, 0, 0, 0, 0, 0, 0, 0, 0, 0, 0, 0, 0, 0, 0, 0, 0, 0, 0, 0,\n",
      "       0, 0, 0, 0, 0, 0, 0, 0, 0, 0, 0, 0, 0, 0, 0, 0, 0, 0, 0, 0, 0, 0, 0,\n",
      "       0, 0, 0, 0, 0, 0, 0, 0, 0, 0, 0, 0, 0, 0, 0, 0, 0, 0, 0, 0, 0, 0, 0,\n",
      "       0, 0, 0, 0, 0, 0, 0, 0, 0, 0, 0, 0, 0, 0, 0, 0, 0, 0, 0, 0, 0, 0, 0,\n",
      "       0, 0, 0, 0, 0, 0, 0, 0, 0, 0, 0, 0, 0, 0, 0, 0, 0, 0, 0, 0, 0, 0, 0,\n",
      "       0, 0, 0, 0, 0, 0, 0, 0, 0, 0, 0, 0, 0, 0, 0, 0, 0, 0, 0, 0, 0, 0, 0,\n",
      "       0, 0, 0, 0, 0, 0, 0, 0, 0, 0, 0, 0, 0, 0, 0, 0, 0, 0, 0, 0, 0, 0, 0,\n",
      "       0, 0, 0, 0, 0, 0, 0, 0, 0, 0, 0, 0, 0, 0, 0, 0, 0, 0, 0, 0, 0, 0, 0,\n",
      "       0, 0, 0, 0, 0, 0, 0, 0, 0, 0, 0, 0, 0, 0, 0, 0, 0, 0, 0, 0, 0, 0, 0,\n",
      "       0, 0, 0, 0, 0, 0, 0, 0, 0, 0, 0, 0, 0, 0, 0, 0, 0, 0, 0, 0, 0, 0, 0,\n",
      "       0, 0, 0, 0, 0, 0, 0, 0, 0, 0, 0, 0, 0, 0, 0, 0, 0, 0, 0, 0, 0, 0, 0,\n",
      "       0, 0, 0, 0, 0, 0, 0, 0, 0, 0, 0, 0, 0, 0, 0, 0, 0, 0, 0, 0, 0, 0, 0,\n",
      "       0, 0, 0, 0, 0, 0, 0, 0, 0, 0, 0, 0, 0, 0, 0, 0, 0, 0, 0, 0, 0, 0, 0,\n",
      "       0, 0, 0, 0, 0, 0, 0, 0, 0, 0, 0, 0, 0, 0, 0, 0, 0, 0, 0, 0, 0, 0, 0,\n",
      "       0, 0, 0, 0, 0, 0, 0, 0, 0, 0, 0, 0, 0, 0, 0, 0, 0, 0, 0, 0, 0, 0, 0,\n",
      "       0, 0, 0, 0, 0, 0, 0, 0, 0, 0, 0, 0, 0, 0, 0, 0, 0, 0, 0, 0, 0, 0, 0,\n",
      "       0, 0, 0, 0, 0, 0, 0, 0, 0, 0, 0, 0, 0, 0, 0, 0, 0, 0, 0, 0, 0, 0, 0,\n",
      "       0, 0, 0, 0, 0, 0, 0, 0, 0, 0, 0, 0, 0, 0, 0, 0, 0, 0, 0, 0, 0, 0, 0,\n",
      "       0, 0, 0, 0, 0, 0, 0, 0, 0, 0, 0, 0, 0, 0, 0, 0, 0, 0, 0, 0, 0, 0, 0,\n",
      "       0, 0, 0, 0, 0, 0, 0, 0, 0, 0, 0, 0, 0, 0, 0, 0, 0]))\n"
     ]
    }
   ],
   "source": [
    "#Read the data \n",
    "Xtr = genfromtxt('Xtr.csv', delimiter = ',')\n",
    "d = Xtr.shape[1]\n",
    "\n",
    "Xtr = np.delete(Xtr, (d-1), axis = 1)\n",
    "\n",
    "Ytr = pd.read_csv('Ytr.csv')\n",
    "Ytr = np.array(Ytr)\n",
    "Ytr = np.delete(Ytr, (0), axis = 1)\n",
    "\n",
    "n = Xtr.shape[0]\n",
    "d = Xtr.shape[1]\n",
    "\n"
   ]
  },
  {
   "cell_type": "code",
   "execution_count": 19,
   "metadata": {
    "collapsed": false
   },
   "outputs": [
    {
     "data": {
      "image/png": "[encoded data removed]",
      "text/plain": [
       "<matplotlib.figure.Figure at 0x10f2e96d8>"
      ]
     },
     "metadata": {},
     "output_type": "display_data"
    }
   ],
   "source": [
    "#The block to display images\n",
    "\n",
    "def displayImage(image):\n",
    "    plt.imshow(image)\n",
    "    plt.show()\n",
    "\n",
    "Im = Xtr[1200]\n",
    "\n",
    "Im = np.reshape(Im,(3,32,32))\n",
    "Im = Im.T\n",
    "displayImage(Im)"
   ]
  },
  {
   "cell_type": "code",
   "execution_count": 117,
   "metadata": {
    "collapsed": false
   },
   "outputs": [
    {
     "name": "stdout",
     "output_type": "stream",
     "text": [
      "Optimization terminated successfully.    (Exit mode 0)\n",
      "            Current function value: 4870.55738175\n",
      "            Iterations: 79\n",
      "            Function evaluations: 151\n",
      "            Gradient evaluations: 75\n"
     ]
    }
   ],
   "source": [
    "Lambda=0.5\n",
    "\n",
    "\n",
    "\n",
    "def Linear_Kernel(x,y):\n",
    "    return np.dot(x,y)\n",
    "def Fill_Gram_Matrix(label1,label2):\n",
    "    \n",
    "    x1=Xtr[np.where(Ytr==label1)[0],:]\n",
    "    x2=Xtr[np.where(Ytr==label2)[0],:]\n",
    "    x=np.concatenate([x1,x2])\n",
    "    \n",
    "    y1=np.ones(x1.shape[0])\n",
    "    y2=-1*np.ones(x2.shape[0])\n",
    "    y=np.concatenate([y1,y2])\n",
    "    \n",
    "    alpha=np.zeros(x.shape[0])\n",
    "    K=np.zeros((x.shape[0],x.shape[0]))\n",
    "    for line in range(x.shape[0]):\n",
    "        for col in range(x.shape[0]):\n",
    "            if ( col<=line):\n",
    "                value= Linear_Kernel(x[line,:],x[col,:])\n",
    "                K[col,line]=value;\n",
    "                K[line,col]=value;\n",
    "                \n",
    "    return x,y,K;\n",
    "        \n",
    "x,y,K=Fill_Gram_Matrix(1,2)\n",
    "def SVM_dual_function(alpha):\n",
    "    return -(2*np.dot(alpha,y)-np.dot(alpha,np.dot(K,alpha)))\n",
    "def SVM_dual_function_Jac(alpha):\n",
    "    return -(2*y - 2*np.dot(K,alpha))\n",
    "def SVM_dual_function_Hess(alpha):\n",
    "    return K\n",
    "\n",
    "alpha=np.zeros(x.shape[0])\n",
    "cons = ({'type': 'ineq','fun' : lambda alpha: - y*alpha,\n",
    "         'type': 'ineq','fun' : lambda alpha: alpha*y - 0.5/Lambda*np.ones(y.shape[0])})\n",
    "res = minimize(SVM_dual_function,alpha,\n",
    "               jac=SVM_dual_function_Jac,\n",
    "               constraints=cons, options={'disp': True})\n",
    "    \n",
    "\n"
   ]
  },
  {
   "cell_type": "code",
   "execution_count": 118,
   "metadata": {
    "collapsed": false
   },
   "outputs": [],
   "source": [
    "Sigma = np.identity(d)\n",
    "\n",
    "Lambda = 1\n",
    "#W = trainRidgeRegression(Xtr, Ytr, Sigma, Lambda)\n"
   ]
  },
  {
   "cell_type": "code",
   "execution_count": 119,
   "metadata": {
    "collapsed": false
   },
   "outputs": [
    {
     "name": "stdout",
     "output_type": "stream",
     "text": [
      "0\n"
     ]
    }
   ],
   "source": [
    "#print((res.x).shape)\n",
    "alpha = res.x\n",
    "#alpha = alpha[alpha > 0 or alpha < 0]\n",
    "\n",
    "\n",
    "def SVM_function(x_querry):\n",
    "    value = 0\n",
    "    for i in range(alpha.shape[0]):\n",
    "        Current_Image=x[i,:]\n",
    "        value += alpha[i]*Linear_Kernel(x_querry,Current_Image)\n",
    "    return np.sign(value)\n",
    "\n",
    "\n",
    "for i in range(1000):\n",
    "    error=0\n",
    "    label_found=SVM_function(x[i,:])\n",
    "    if(label_found != y[i]):\n",
    "        error+=1\n",
    "print(error)\n",
    "    \n",
    "\n",
    "        \n",
    "    "
   ]
  },
  {
   "cell_type": "code",
   "execution_count": null,
   "metadata": {
    "collapsed": true
   },
   "outputs": [],
   "source": []
  }
 ],
 "metadata": {
  "anaconda-cloud": {},
  "kernelspec": {
   "display_name": "Python 3",
   "language": "python",
   "name": "python3"
  },
  "language_info": {
   "codemirror_mode": {
    "name": "ipython",
    "version": 3
   },
   "file_extension": ".py",
   "mimetype": "text/x-python",
   "name": "python",
   "nbconvert_exporter": "python",
   "pygments_lexer": "ipython3",
   "version": "3.6.0"
  }
 },
 "nbformat": 4,
 "nbformat_minor": 1
}
