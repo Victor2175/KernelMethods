{
 "cells": [
  {
   "cell_type": "code",
   "execution_count": 15,
   "metadata": {
    "collapsed": false
   },
   "outputs": [],
   "source": [
    "import numpy as np\n",
    "from numpy import genfromtxt\n",
    "\n",
    "from scipy import *\n",
    "from scipy.linalg import norm, pinv, det\n",
    "from scipy.optimize import minimize\n",
    "import csv\n",
    "import cvxopt as opt\n",
    "from cvxopt import matrix, solvers\n",
    "\n",
    "import matplotlib.pyplot as plt\n",
    "\n",
    "from PIL import Image\n",
    "import matplotlib.image as mping\n",
    "\n",
    "import pandas as pd\n",
    "from __future__ import division\n"
   ]
  },
  {
   "cell_type": "code",
   "execution_count": 16,
   "metadata": {
    "collapsed": false
   },
   "outputs": [],
   "source": [
    "#Read the data \n",
    "Xtr = genfromtxt('Xtr.csv', delimiter = ',')\n",
    "d = Xtr.shape[1]\n",
    "\n",
    "Xtr = np.delete(Xtr, (d-1), axis = 1)\n",
    "\n",
    "Ytr = pd.read_csv('Ytr.csv')\n",
    "Ytr = np.array(Ytr)\n",
    "Ytr = np.delete(Ytr, (0), axis = 1)\n",
    "\n",
    "#Xtr is a 5000 * 3072 dimensional matrix\n",
    "\n",
    "#Ytr is a 5000*1 dimensional matrix\n",
    "\n"
   ]
  },
  {
   "cell_type": "code",
   "execution_count": 17,
   "metadata": {
    "collapsed": true
   },
   "outputs": [],
   "source": [
    "#This function crops the image and detects the shape of the target object \n",
    "\n",
    "def Crop(imagecol):\n",
    "    imagecol = np.reshape(imagecol,(3,32,32))\n",
    "    image_bw = (0.21*imagecol[0,:,:]+0.72*imagecol[1,:,:]+ 0.07*imagecol[2,:,:])\n",
    "    first_channel_kept=[]\n",
    "    second_channel_kept=[]\n",
    "    third_channel_kept=[]\n",
    "    \n",
    "    m=mean(image_bw)\n",
    "    diffpos=(image_bw.max()-m)* 0.05\n",
    "    diffneg=(m-image_bw.min())* 0.05\n",
    "    threspos=m+diffpos\n",
    "    thresneg=m-diffneg\n",
    "    for line in range(image_bw.shape[0]):\n",
    "        \n",
    "        select_indices = np.argwhere((image_bw[line,:] > threspos) | (image_bw[line,:]<thresneg ))\n",
    "        #print(len(select_indices))\n",
    "        if(len(select_indices)>1):\n",
    "            firstIndex=select_indices[0][0]\n",
    "            secondIndex=min(select_indices[-1][0]+1,32)\n",
    "            first_channel_kept=np.concatenate([first_channel_kept,imagecol[0,line,firstIndex:secondIndex]])\n",
    "            second_channel_kept=np.concatenate([second_channel_kept,imagecol[1,line,firstIndex:secondIndex]])\n",
    "            third_channel_kept=np.concatenate([third_channel_kept,imagecol[2,line,firstIndex:secondIndex]])\n",
    "   \n",
    "    \n",
    "    cropped_image_col=np.zeros((3,first_channel_kept.shape[0]))\n",
    "    #[h,s,v]=rgb_to_hsv(first_channel_kept,second_channel_kept,third_channel_kept)\n",
    "    cropped_image_col[0]=first_channel_kept\n",
    "    cropped_image_col[1]=second_channel_kept\n",
    "    cropped_image_col[2]=third_channel_kept\n",
    "    \n",
    "    return cropped_image_col"
   ]
  },
  {
   "cell_type": "code",
   "execution_count": 18,
   "metadata": {
    "collapsed": false
   },
   "outputs": [],
   "source": [
    "#The block to display images\n",
    "\n",
    "def displayImage(image):\n",
    "    plt.imshow(image,cmap='Greys')\n",
    "    plt.show()"
   ]
  },
  {
   "cell_type": "code",
   "execution_count": 19,
   "metadata": {
    "collapsed": false
   },
   "outputs": [],
   "source": [
    "#Preprocessing images\n",
    "#Code to tranform images into 16*16*16 dimensional histograms\n",
    "\n",
    "\n",
    "def Compute_Histogram(Im, nbBins, X):\n",
    "    \n",
    "    Xtilde = np.reshape(Xtr, (5000, 3, 1024))\n",
    "    \n",
    "    Image = Im\n",
    "    R = Image[0,:]\n",
    "    G = Image[1,:]\n",
    "    B = Image[2,:]\n",
    "    \n",
    "    \n",
    "    minR = np.min(Xtilde[:,0,:])\n",
    "    minG = np.min(Xtilde[:,1,:])\n",
    "    minB = np.min(Xtilde[:,2,:])\n",
    "\n",
    "    maxR = np.max(Xtilde[:,0,:])\n",
    "    maxG = np.max(Xtilde[:,1,:])\n",
    "    maxB = np.max(Xtilde[:,2,:])\n",
    "    \n",
    "    LR = np.linspace(minR, maxR, nbBins)\n",
    "    LG = np.linspace(minG, maxG, nbBins)\n",
    "    LB = np.linspace(minB, maxB, nbBins)\n",
    "    \n",
    "    \n",
    "    h = np.zeros((nbBins,nbBins,nbBins))\n",
    "    \n",
    "    nbpixel = 0\n",
    "    for i in range(nbBins-1):\n",
    "        for j in range(nbBins-1):\n",
    "            for k in range(nbBins-1):\n",
    "                h[i,j,k] = (np.where((R>=LR[i]) & (R < LR[i+1]) & (G>=LG[j]) & (G < LG[j+1]) &(B>=LB[k]) & (B < LB[k+1]))[0]).shape[0]\n",
    "                nbpixel += h[i,j,k] \n",
    "    h = h/nbpixel\n",
    "    h = np.reshape(h, nbBins**3)\n",
    "    return h\n"
   ]
  },
  {
   "cell_type": "code",
   "execution_count": 20,
   "metadata": {
    "collapsed": false
   },
   "outputs": [],
   "source": [
    "def Quadratic_Kernel(x,y):\n",
    "    return  (np.dot(x,y)+1)**2\n",
    "\n",
    "    \n",
    "    \n",
    "def KernelComputation(x):\n",
    "    K = np.zeros((x.shape[0],x.shape[0]))\n",
    "    for line in range(x.shape[0]):\n",
    "        for col in range(x.shape[0]):\n",
    "            if (line<=col):\n",
    "                value= Quadratic_Kernel(x[line,:],x[col,:])\n",
    "                K[col,line]=value\n",
    "                K[line,col]=value\n",
    "    return K"
   ]
  },
  {
   "cell_type": "code",
   "execution_count": 21,
   "metadata": {
    "collapsed": false
   },
   "outputs": [],
   "source": [
    "#I mmodified a bit th Quadratic_Kernel to test the efficiency of a polynomial kernel. \n",
    "#Clearly we should better use a polynomial kernel with a degree greater or equal than 2\n",
    "#Return x (images) and y corresponding to label1 and label2 \n",
    "def Fill_x_y_label(X, label1,label2, K):\n",
    "\n",
    "    x1=X[np.where(Ytr==label1)[0],:]\n",
    "    x2=X[np.where(Ytr==label2)[0],:]\n",
    "    x=np.concatenate([x1,x2])\n",
    "    \n",
    "    KTrain = K[np.concatenate([np.where(Ytr==label1)[0],np.where(Ytr==label2)[0]]),:]\n",
    "    KTrain = KTrain[:,np.concatenate([np.where(Ytr==label1)[0],np.where(Ytr==label2)[0]])]\n",
    "    \n",
    "    y1=np.ones(x1.shape[0])\n",
    "    y2=-1*np.ones(x2.shape[0])\n",
    "    y=np.concatenate([y1,y2])\n",
    "    return x,y,KTrain;"
   ]
  },
  {
   "cell_type": "code",
   "execution_count": 22,
   "metadata": {
    "collapsed": true
   },
   "outputs": [],
   "source": [
    "#Optimization model\n",
    "def Training_model(y, Kernel, Lambda):\n",
    "    P = matrix(2*Kernel)\n",
    "    q = matrix(-2*y)\n",
    "    G = matrix(np.concatenate(((-1)*np.diag(y),np.diag(y))), tc='d')\n",
    "    h = matrix(np.concatenate([np.zeros(y.shape), (1/(2*float(Lambda*y.shape[0])))*np.ones(y.shape)]), tc='d')\n",
    "    A = matrix(np.ones(y.shape[0]),(1,y.shape[0]))\n",
    "    b = matrix(0.0)\n",
    "    sol = solvers.qp(P,q,G,h,A,b)\n",
    "    alpha = sol['x']\n",
    "    print sol['status']\n",
    "    alpha = np.array(alpha)\n",
    "    return alpha\n",
    "\n",
    "\n",
    "#Compute the new obtained label\n",
    "def SVM_function(alpha, xtrain ,x_querry):\n",
    "    value = 0\n",
    "    for i in range(alpha.shape[0]):\n",
    "        Current_Image=xtrain[i,:]\n",
    "        value += alpha[i]*Quadratic_Kernel(x_querry,Current_Image)\n",
    "    return value\n"
   ]
  },
  {
   "cell_type": "code",
   "execution_count": 23,
   "metadata": {
    "collapsed": false
   },
   "outputs": [],
   "source": [
    "#Block to perform the optimization with the Quadratic_Kernel\n",
    "\n",
    "#Just a test for the one vs one classifier \n",
    "\n",
    "def Train_Model(Histogram, Lambda):\n",
    "    AlphaClassifiers = np.zeros((NbLabel,NbLabel,Histogram.shape[0]))\n",
    "    b = np.zeros((NbLabel,NbLabel))\n",
    "    K = KernelComputation(Histogram)\n",
    "    for label1 in range(NbLabel):\n",
    "        for label2 in range(NbLabel):\n",
    "            if(label2 > label1):\n",
    "                xTrain, yTrain, KTrain = Fill_x_y_label(Histogram, label1,label2,K)\n",
    "                alpha  = Training_model(yTrain, KTrain, Lambda)\n",
    "                count =0\n",
    "                for i in range(alpha.shape[0]):\n",
    "                    if((alpha[i]*yTrain[i] > 0) and (alpha[i]*yTrain[i] < (1/(2*Lambda*yTrain.shape[0])))):\n",
    "                        count +=1\n",
    "                        b[label1,label2] += yTrain[i]\n",
    "                        for j in range(alpha.shape[0]):\n",
    "                            b[label1,label2] -= alpha[j]*Quadratic_Kernel(xTrain[i,:],xTrain[j,:])\n",
    "                b[label1,label2]=b[label1,label2]/count\n",
    "                AlphaClassifiers[label1, label2, :] = alpha[:,0]\n",
    "    return AlphaClassifiers, b, K"
   ]
  },
  {
   "cell_type": "code",
   "execution_count": 24,
   "metadata": {
    "collapsed": false
   },
   "outputs": [],
   "source": [
    "def FindLabels(Histogram, Image,threshold, K, AlphaClassifiers,b):\n",
    "    delta = np.zeros((NbLabel,1))\n",
    "    for label1 in range(NbLabel):\n",
    "        for label2 in range(NbLabel):\n",
    "            if(label2 > label1):\n",
    "                xTrain, yTrain, KTrain = Fill_x_y_label(Histogram, label1,label2, K)\n",
    "                value = SVM_function(AlphaClassifiers[label1,label2,:], xTrain, Image) + b[label1,label2]\n",
    "                if value > 0:\n",
    "                    delta[label1,0] += 1\n",
    "                if value < 0:\n",
    "                    delta[label2,0] += 1\n",
    "                    \n",
    "    firstlabel = np.argmax(delta[:,0])\n",
    "    bestClass = np.argwhere(delta[:,0] >= threshold * (NbLabel-1))\n",
    "    bestClass = bestClass[:,0]\n",
    "    while bestClass.shape[0] > 1:\n",
    "        delta = np.zeros((NbLabel,1))\n",
    "        for i in bestClass:\n",
    "            for j in bestClass:\n",
    "                if(i < j):\n",
    "                    xTrain, yTrain, KTrain = Fill_x_y_label(Histogram, label1,label2, K)\n",
    "                    value = SVM_function(AlphaClassifiers[i,j,:], xTrain, Image) + b[i,j]\n",
    "                    if value > 0:\n",
    "                        delta[i,0] += 1\n",
    "                    else:\n",
    "                        delta[j,0] += 1\n",
    "        \n",
    "        bestClass = np.argwhere(delta[:,0] >= threshold * (bestClass.shape[0]-1))\n",
    "        bestClass = bestClass[:,0]\n",
    "    if(bestClass.shape[0] == 0):\n",
    "        labelFound = firstlabel\n",
    "    else:\n",
    "        labelFound = bestClass[0]\n",
    "    return labelFound\n",
    "            "
   ]
  },
  {
   "cell_type": "code",
   "execution_count": 25,
   "metadata": {
    "collapsed": false
   },
   "outputs": [],
   "source": [
    "Xte = genfromtxt('Xte.csv', delimiter = ',')\n",
    "d = Xte.shape[1]\n",
    "Xte = np.delete(Xte, (d-1), axis = 1)"
   ]
  },
  {
   "cell_type": "code",
   "execution_count": 27,
   "metadata": {
    "collapsed": false
   },
   "outputs": [],
   "source": [
    "def Classify(InputX, InputY, InputTest, nbBins, Lambda, threshold):\n",
    "    n = InputX.shape[0]\n",
    "    InputHistogram = np.zeros((n,nbBins**3))\n",
    "    \n",
    "    for i in range(n):\n",
    "        Im = InputX[i,:]\n",
    "        Im = np.reshape(Im,(3,1024))\n",
    "        InputHistogram[i,:] = Compute_Histogram(Im, nbBins,InputX)\n",
    "    AlphaClassifiers, b, K = Train_Model(InputHistogram, Lambda)\n",
    "    \n",
    "    TestHistogram = np.zeros((n,nbBins**3))\n",
    "    for i in range(InputTest.shape[0]):\n",
    "        Im = InputTest[i,:]\n",
    "        Im = np.reshape(Im,(3,1024))\n",
    "        TestHistogram[i,:] = Compute_Histogram(Im, nbBins,InputTest)\n",
    "        label_found = FindLabels(InputHistogram, Im, threshold, K, AlphaClassifiers,b)\n",
    "        Yte[i] = label_found\n",
    "        \n",
    "    \n",
    "    Yte = np.zeros(Xte.shape[0])\n",
    "    with open('test.csv', 'wb') as f:\n",
    "        writer = csv.writer(f)\n",
    "        writer.writerow(['Id','Prediction'])\n",
    "        i=0\n",
    "        for val in Yte:\n",
    "            writer.writerow([i+1,int(val)])\n",
    "            i = i+1\n",
    "    \n",
    "    "
   ]
  },
  {
   "cell_type": "code",
   "execution_count": null,
   "metadata": {
    "collapsed": true
   },
   "outputs": [],
   "source": [
    "Classify(Xtr, Ytr, Xte, 16, 0.00001, 0.7)"
   ]
  },
  {
   "cell_type": "code",
   "execution_count": null,
   "metadata": {
    "collapsed": true
   },
   "outputs": [],
   "source": []
  }
 ],
 "metadata": {
  "anaconda-cloud": {},
  "kernelspec": {
   "display_name": "Python [conda root]",
   "language": "python",
   "name": "conda-root-py"
  },
  "language_info": {
   "codemirror_mode": {
    "name": "ipython",
    "version": 2
   },
   "file_extension": ".py",
   "mimetype": "text/x-python",
   "name": "python",
   "nbconvert_exporter": "python",
   "pygments_lexer": "ipython2",
   "version": "2.7.12"
  }
 },
 "nbformat": 4,
 "nbformat_minor": 1
}
